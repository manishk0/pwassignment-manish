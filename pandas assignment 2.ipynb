{
 "cells": [
  {
   "cell_type": "code",
   "execution_count": null,
   "metadata": {},
   "outputs": [],
   "source": [
    "#1\n",
    "1.pd.read_csv(\"name\")-to read csv File \n",
    "2.df.head()-to get first five rows in dataframe\n",
    "3.df.tail()-to get last five rows in dataframe\n",
    "4.df.describe()-to describe numerical columns in dataframe\n",
    "5.df.to_csv()-to convert any file into csv format"
   ]
  },
  {
   "cell_type": "code",
   "execution_count": 17,
   "metadata": {},
   "outputs": [
    {
     "name": "stdout",
     "output_type": "stream",
     "text": [
      "    a   b   c\n",
      "0  12  30  60\n",
      "1  23  43  54\n",
      "2  21  54  98\n",
      "    a   b   c\n",
      "1  12  30  60\n",
      "3  23  43  54\n",
      "5  21  54  98\n"
     ]
    }
   ],
   "source": [
    "#2\n",
    "import pandas as pd\n",
    "data={'a':[12,23,21],\n",
    "      'b':[30,43,54],\n",
    "      'c':[60,54,98]}\n",
    "old=pd.DataFrame(data)\n",
    "print(old)\n",
    "def reindex(df):\n",
    "    df.index=range(1,2*len(df)+1,2)\n",
    "    return df\n",
    "new=reindex(old)\n",
    "print(new)\n",
    "\n",
    "    "
   ]
  },
  {
   "cell_type": "code",
   "execution_count": 24,
   "metadata": {},
   "outputs": [
    {
     "name": "stdout",
     "output_type": "stream",
     "text": [
      "   values\n",
      "0      10\n",
      "1      20\n",
      "2      30\n",
      "3      40\n",
      "4      50\n",
      "values    60\n",
      "dtype: int64\n"
     ]
    }
   ],
   "source": [
    "#3\n",
    "import pandas as pd\n",
    "data={'values':[10,20,30,40,50]}\n",
    "df=pd.DataFrame(data)\n",
    "print(df)\n",
    "s=df.iloc[:3].sum()\n",
    "print(s)"
   ]
  },
  {
   "cell_type": "code",
   "execution_count": 11,
   "metadata": {},
   "outputs": [
    {
     "name": "stdout",
     "output_type": "stream",
     "text": [
      "      text\n",
      "0   manish\n",
      "1  shubham\n",
      "2     ashu\n",
      "      text  word_count\n",
      "0   manish           1\n",
      "1  shubham           1\n",
      "2     ashu           1\n"
     ]
    }
   ],
   "source": [
    "#4\n",
    "import pandas as pd\n",
    "data={'text':['manish','shubham','ashu']}\n",
    "df=pd.DataFrame(data)\n",
    "print(df)\n",
    "df['word_count']=df['text'].apply(lambda x:len(x.split()))\n",
    "df2=df[['text','word_count']]\n",
    "print(df2)    \n",
    "       "
   ]
  },
  {
   "cell_type": "code",
   "execution_count": null,
   "metadata": {},
   "outputs": [],
   "source": [
    "#5\n",
    "Dataframe.size()-it gives no.of rows*no.of columns in Dataframe\n",
    "Dataframe.shape()-it gives total rows first and then columns"
   ]
  },
  {
   "cell_type": "code",
   "execution_count": null,
   "metadata": {},
   "outputs": [],
   "source": [
    "#6\n",
    "to read excel file we use-\n",
    "df.read_excel('excel_name')"
   ]
  },
  {
   "cell_type": "code",
   "execution_count": 17,
   "metadata": {},
   "outputs": [
    {
     "name": "stdout",
     "output_type": "stream",
     "text": [
      "               Email Username\n",
      "0  manish@domain.com   manish\n",
      "1    ashu@domain.com     ashu\n",
      "2  subham@domain.com   subham\n"
     ]
    }
   ],
   "source": [
    "#7\n",
    "import pandas as pd\n",
    "data={'Email':['manish@domain.com','ashu@domain.com','subham@domain.com']}\n",
    "df=pd.DataFrame(data)\n",
    "df['Username']=df['Email'].apply(lambda Email:Email.split('@')[0])\n",
    "df2=df[['Email','Username']]\n",
    "print(df2)"
   ]
  },
  {
   "cell_type": "code",
   "execution_count": 24,
   "metadata": {},
   "outputs": [
    {
     "name": "stdout",
     "output_type": "stream",
     "text": [
      "   A  B  C\n",
      "0  3  5  1\n",
      "1  8  2  7\n",
      "2  6  9  4\n",
      "3  2  3  5\n",
      "4  9  1  2\n",
      "   A  B  C\n",
      "1  8  2  7\n",
      "2  6  9  4\n",
      "4  9  1  2\n"
     ]
    }
   ],
   "source": [
    "#8\n",
    "import pandas as pd\n",
    "data={'A':[3,8,6,2,9],'B':[5,2,9,3,1],'C':[1,7,4,5,2]}\n",
    "df=pd.DataFrame(data)\n",
    "print(df)\n",
    "s=df[(df['A']>5) & (df['B']<10)]\n",
    "print(s)"
   ]
  },
  {
   "cell_type": "code",
   "execution_count": 23,
   "metadata": {},
   "outputs": [
    {
     "name": "stdout",
     "output_type": "stream",
     "text": [
      "   value\n",
      "0     24\n",
      "1     32\n",
      "2     44\n",
      "Mean:\n",
      "value    33.333333\n",
      "dtype: float64\n",
      "Median:\n",
      " value    32.0\n",
      "dtype: float64\n",
      "Standard deviation:\n",
      " value    10.066446\n",
      "dtype: float64\n"
     ]
    }
   ],
   "source": [
    "#9\n",
    "import pandas as pd\n",
    "data={'value':[24,32,44]}\n",
    "df=pd.DataFrame(data)\n",
    "print(df)\n",
    "s=df.iloc[:3].mean()\n",
    "y=df.iloc[:3].median()\n",
    "r=df.iloc[:3].std()\n",
    "print('Mean:')\n",
    "print(s)\n",
    "print('Median:\\n',y)\n",
    "print('Standard deviation:\\n', r)"
   ]
  },
  {
   "cell_type": "code",
   "execution_count": 2,
   "metadata": {},
   "outputs": [
    {
     "name": "stdout",
     "output_type": "stream",
     "text": [
      "   sales      Date\n",
      "0     10  1-1-2024\n",
      "1     20  2-1-2024\n",
      "2     30  3-1-2024\n",
      "3     40  4-1-2024\n",
      "4     50  5-1-2024\n",
      "5     60  6-1-2024\n",
      "6     70  7-1-2024\n",
      "   sales      Date  moving_average\n",
      "0     10  1-1-2024            10.0\n",
      "1     20  2-1-2024            15.0\n",
      "2     30  3-1-2024            20.0\n",
      "3     40  4-1-2024            25.0\n",
      "4     50  5-1-2024            30.0\n",
      "5     60  6-1-2024            35.0\n",
      "6     70  7-1-2024            40.0\n"
     ]
    }
   ],
   "source": [
    "#10\n",
    "import pandas as pd\n",
    "data={'sales':[10,20,30,40,50,60,70],\n",
    "      'Date':['1-1-2024','2-1-2024','3-1-2024','4-1-2024','5-1-2024','6-1-2024','7-1-2024']}\n",
    "df=pd.DataFrame(data)\n",
    "print(df)\n",
    "df['moving_average']=df['sales'].rolling(window=7,min_periods=1).mean()\n",
    "print(df)"
   ]
  },
  {
   "cell_type": "code",
   "execution_count": 21,
   "metadata": {},
   "outputs": [
    {
     "name": "stdout",
     "output_type": "stream",
     "text": [
      "         Date  weekday\n",
      "0  2023-01-03  tuesday\n",
      "1  2023-01-02   monday\n",
      "2  2023-01-03   sunday\n"
     ]
    }
   ],
   "source": [
    "#11\n",
    "import pandas as pd\n",
    "data={'Date':['2023-01-03','2023-01-02','2023-01-03'],\n",
    "      'weekday':['tuesday','monday','sunday']}\n",
    "df=pd.DataFrame(data)\n",
    "print(df)\n",
    "\n",
    "\n"
   ]
  },
  {
   "cell_type": "code",
   "execution_count": 19,
   "metadata": {},
   "outputs": [
    {
     "name": "stdout",
     "output_type": "stream",
     "text": [
      "         Date\n",
      "0  2023-01-01\n",
      "1  2023-01-15\n",
      "2  2023-01-20\n",
      "3  2023-02-02\n",
      "         Date\n",
      "0  2023-01-01\n",
      "1  2023-01-15\n",
      "2  2023-01-20\n"
     ]
    }
   ],
   "source": [
    "#12\n",
    "import pandas as pd\n",
    "data={'Date':['2023-01-01','2023-01-15','2023-01-20','2023-02-02']}\n",
    "df=pd.DataFrame(data)\n",
    "print(df)\n",
    "start='2023-01-01'\n",
    "end='2023-01-31'\n",
    "\n",
    "df2=df[(df['Date']>=start) & (df['Date']<=end)]\n",
    "print(df2)"
   ]
  },
  {
   "cell_type": "code",
   "execution_count": null,
   "metadata": {},
   "outputs": [],
   "source": [
    "#13\n",
    "import pandas as pd,then we have to define data."
   ]
  }
 ],
 "metadata": {
  "kernelspec": {
   "display_name": "Python 3",
   "language": "python",
   "name": "python3"
  },
  "language_info": {
   "codemirror_mode": {
    "name": "ipython",
    "version": 3
   },
   "file_extension": ".py",
   "mimetype": "text/x-python",
   "name": "python",
   "nbconvert_exporter": "python",
   "pygments_lexer": "ipython3",
   "version": "3.11.4"
  }
 },
 "nbformat": 4,
 "nbformat_minor": 2
}
