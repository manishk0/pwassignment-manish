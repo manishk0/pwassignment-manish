{
 "cells": [
  {
   "cell_type": "code",
   "execution_count": 2,
   "id": "0ba24d4c-9c67-4d2f-8217-c6b2cfa7b5ae",
   "metadata": {},
   "outputs": [
    {
     "data": {
      "text/plain": [
       "'876'"
      ]
     },
     "execution_count": 2,
     "metadata": {},
     "output_type": "execute_result"
    }
   ],
   "source": [
    "#1.\n",
    "#abstration is the  outline of all the objects in particular class,that hide unnecessary  information from the user.\n",
    "#ex-\n",
    "import abc\n",
    "class man:\n",
    "    @abc.abstractmethod\n",
    "    def call(self):\n",
    "        pass\n",
    "    @abc.abstractmethod\n",
    "    def name(self):\n",
    "        pass\n",
    "class man1(man):\n",
    "    def call(self):\n",
    "        return '876'\n",
    "    def name(self):\n",
    "        return 'manish'\n",
    "obj=man1()\n",
    "obj.call()\n",
    "    "
   ]
  },
  {
   "cell_type": "code",
   "execution_count": null,
   "id": "a5b5c59f-23e5-42ad-ad8e-fe27ceda7cdc",
   "metadata": {},
   "outputs": [],
   "source": [
    "#2\n",
    "#Abstaction is the  outline of all the objects in particular class,that hide unnecessary  information from the user.\n",
    "#Encapsulation hides the important data from user.\n",
    
   ]
  },
  {
   "cell_type": "code",
   "execution_count": null,
   "id": "43f58ba1-1b2e-4544-9323-75ba8ffc1f10",
   "metadata": {},
   "outputs": [],
   "source": [
    "#3.\n",
    "#abc module is abstract based classes which provides infracstructure that defines the custom abstract based classes.\n",
    "#it helps to reuse code."
   ]
  },
  {
   "cell_type": "code",
   "execution_count": null,
   "id": "455286e0-eeef-4e6a-ad50-ee9883e69aff",
   "metadata": {},
   "outputs": [],
   "source": [
    "#4.\n",
    "#we achieve data abstraction by usig abstaction classes and methods in the code."
   ]
  },
  {
   "cell_type": "code",
   "execution_count": null,
   "id": "bad699d9-c4db-4be2-b01e-97eaf01db5ce",
   "metadata": {},
   "outputs": [],
   "source": [
    "#5\n",
    "#No we cannot create an instance of an abstract class.\n",
    "#but they can be subclassed.when an abstract classs is subclassed the subclass usually provides implementation for all of the abstract methods in its parent class."
   ]
  }
 ],
 "metadata": {
  "kernelspec": {
   "display_name": "Python 3 (ipykernel)",
   "language": "python",
   "name": "python3"
  },
  "language_info": {
   "codemirror_mode": {
    "name": "ipython",
    "version": 3
   },
   "file_extension": ".py",
   "mimetype": "text/x-python",
   "name": "python",
   "nbconvert_exporter": "python",
   "pygments_lexer": "ipython3",
   "version": "3.10.8"
  }
 },
 "nbformat": 4,
 "nbformat_minor": 5
}
