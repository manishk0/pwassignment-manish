{
 "cells": [
  {
   "cell_type": "code",
   "execution_count": 5,
   "metadata": {},
   "outputs": [
    {
     "name": "stdout",
     "output_type": "stream",
     "text": [
      "0     4\n",
      "1     8\n",
      "2    15\n",
      "3    16\n",
      "4    23\n",
      "5    42\n",
      "dtype: int64\n"
     ]
    }
   ],
   "source": [
    "#1\n",
    "import pandas as pd\n",
    "data=[4,8,15,16,23,42]\n",
    "s=pd.Series(data)\n",
    "print(s)\n"
   ]
  },
  {
   "cell_type": "code",
   "execution_count": 6,
   "metadata": {},
   "outputs": [
    {
     "name": "stdout",
     "output_type": "stream",
     "text": [
      "[4, 8, 15, 16, 23, 42, 62, 35, 65, 98]\n"
     ]
    }
   ],
   "source": [
    "#2\n",
    "import pandas as pd\n",
    "data=[4,8,15,16,23,42,62,35,65,98]\n",
    "s=pd.Series(data)\n",
    "y=list(s)\n",
    "print(y)"
   ]
  },
  {
   "cell_type": "code",
   "execution_count": 12,
   "metadata": {},
   "outputs": [
    {
     "name": "stdout",
     "output_type": "stream",
     "text": [
      "     name  Age  Gender\n",
      "0   alice   25  Female\n",
      "1     bob   30    Male\n",
      "2  claire   27  Female\n"
     ]
    }
   ],
   "source": [
    "#3\n",
    "import pandas as pd\n",
    "df={'name':['alice','bob','claire'],\n",
    "    'Age':[25,30,27],\n",
    "    'Gender':['Female','Male','Female']}\n",
    "s=pd.DataFrame(df)\n",
    "print(s)"
   ]
  },
  {
   "cell_type": "code",
   "execution_count": null,
   "metadata": {},
   "outputs": [],
   "source": [
    "#4\n",
    "dataframe-it is a tabular form of data in pandas\n",
    "pandas.Series-It is data which contain only single column"
   ]
  },
  {
   "cell_type": "code",
   "execution_count": null,
   "metadata": {},
   "outputs": [],
   "source": [
    "#5\n",
    "common functions used to manipulate data in pandas dataframe are:\n",
    "df.head(),df.tail(),df.dtypes(),df.columns(),df.\n",
    "to_csv()-It is used to save dataframe in comma separated value format."
   ]
  },
  {
   "cell_type": "code",
   "execution_count": null,
   "metadata": {},
   "outputs": [],
   "source": [
    "#6\n",
    "both series and Dataframe are mutable in nature."
   ]
  },
  {
   "cell_type": "code",
   "execution_count": 22,
   "metadata": {},
   "outputs": [
    {
     "name": "stdout",
     "output_type": "stream",
     "text": [
      "   column1  column2\n",
      "0        4        6\n",
      "1        8       89\n",
      "2       15       65\n",
      "3       16       44\n",
      "4       23       55\n",
      "5       42       67\n"
     ]
    }
   ],
   "source": [
    "#7\n",
    "import pandas as pd\n",
    "data=[4,8,15,16,23,42]\n",
    "data2=[6,89,65,44,55,67]\n",
    "m=pd.Series(data2)\n",
    "s=pd.Series(data)\n",
    "df=pd.DataFrame({'column1':s,'column2':m})\n",
    "print(df)"
   ]
  }
 ],
 "metadata": {
  "kernelspec": {
   "display_name": "Python 3",
   "language": "python",
   "name": "python3"
  },
  "language_info": {
   "codemirror_mode": {
    "name": "ipython",
    "version": 3
   },
   "file_extension": ".py",
   "mimetype": "text/x-python",
   "name": "python",
   "nbconvert_exporter": "python",
   "pygments_lexer": "ipython3",
   "version": "3.11.4"
  }
 },
 "nbformat": 4,
 "nbformat_minor": 2
}
