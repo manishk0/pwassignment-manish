{
 "cells": [
  {
   "cell_type": "code",
   "execution_count": 10,
   "id": "1af16634-8b9c-4a07-bdaf-615bb6ad8a48",
   "metadata": {},
   "outputs": [
    {
     "name": "stdout",
     "output_type": "stream",
     "text": [
      "manish\n"
     ]
    }
   ],
   "source": [
    "#1\n",
    "#class-it is a code for creating objects\n",
    "#object-it is element/instance of class\n",
    "#for example-\n",
    "class man:\n",
    "    def name(self):\n",
    "        print('manish')\n",
    "obj=man()\n",
    "obj.name()\n"
   ]
  },
  {
   "cell_type": "code",
   "execution_count": null,
   "id": "5d61f9dd-9e32-4ac2-aaea-77a18ad2d0f2",
   "metadata": {},
   "outputs": [],
   "source": [
    "#2.\n",
    "four pillars of oops:\n",
    "    1.inheritance\n",
    "    2.encapsulation\n",
    "    3.abstraction\n",
    "    4.polymorphism\n",
    "    "
   ]
  },
  {
   "cell_type": "code",
   "execution_count": 2,
   "id": "66f7d8a6-ce95-4850-aa05-e259152feda9",
   "metadata": {},
   "outputs": [
    {
     "data": {
      "text/plain": [
       "'manish'"
      ]
     },
     "execution_count": 2,
     "metadata": {},
     "output_type": "execute_result"
    }
   ],
   "source": [
    "#3\n",
    "#__init__ function is used to construct object and assign it in a particular class.\n",
    "#ex-\n",
    "class man:\n",
    "    def __init__(self,name):\n",
    "        self.name=name\n",
    "    def return_(self):\n",
    "        return self.name\n",
    "obj=man('manish')\n",
    "obj.return_()\n",
    "        \n"
   ]
  },
  {
   "cell_type": "code",
   "execution_count": null,
   "id": "d3b16ea1-6bf0-4370-8248-8cfb4ef2ee9e",
   "metadata": {},
   "outputs": [],
   "source": [
    "#4\n",
    "#self makes to use same objects in multiple times in code\n",
    "\n",
    "\n"
   ]
  },
  {
   "cell_type": "code",
   "execution_count": 11,
   "id": "588125ac-50ff-4fb9-b15b-254a107221d7",
   "metadata": {},
   "outputs": [
    {
     "data": {
      "text/plain": [
       "2203"
      ]
     },
     "execution_count": 11,
     "metadata": {},
     "output_type": "execute_result"
    }
   ],
   "source": [
    "#5\n",
    "#inheritance allows us to use class that inherit methods from another class.\n",
    "#ex-\n",
    "#single inheritance-\n",
    "class man:\n",
    "    def name(self):\n",
    "        return 'manish'\n",
    "class man1(man):\n",
    "    pass\n",
    "obj=man1()\n",
    "obj.name()\n",
    "#multiple inheritance-\n",
    "class lol:\n",
    "     def name(self):\n",
    "        return 'manish'\n",
    "class lol1:\n",
    "     def roll(self):\n",
    "        return 2203\n",
    "class lol2(lol1,lol):\n",
    "    pass\n",
    "obj1=lol2()\n",
    "obj1.roll()\n",
    "\n",
    "    \n",
    "        "
   ]
  },
  {
   "cell_type": "code",
   "execution_count": null,
   "id": "255fa141-7049-4cf3-9d44-a9b6de961773",
   "metadata": {},
   "outputs": [],
   "source": []
  }
 ],
 "metadata": {
  "kernelspec": {
   "display_name": "Python 3 (ipykernel)",
   "language": "python",
   "name": "python3"
  },
  "language_info": {
   "codemirror_mode": {
    "name": "ipython",
    "version": 3
   },
   "file_extension": ".py",
   "mimetype": "text/x-python",
   "name": "python",
   "nbconvert_exporter": "python",
   "pygments_lexer": "ipython3",
   "version": "3.10.8"
  }
 },
 "nbformat": 4,
 "nbformat_minor": 5
}
