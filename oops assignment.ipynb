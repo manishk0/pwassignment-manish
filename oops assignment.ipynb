{
 "cells": [
  {
   "cell_type": "code",
   "execution_count": 2,
   "metadata": {},
   "outputs": [
    {
     "name": "stdout",
     "output_type": "stream",
     "text": [
      "Car: Max Speed - 200 km/h, Average Speed - 60 km/h\n",
      "Bike: Max Speed - 120 km/h, Average Speed - 40 km/h\n"
     ]
    }
   ],
   "source": [
    "#1\n",
    "class Vehicle:\n",
    "    def __init__(self, name_of_vehicle, max_speed, average_speed):\n",
    "        self.name_of_vehicle = name_of_vehicle\n",
    "        self.max_speed = max_speed\n",
    "        self.average_speed = average_speed\n",
    "car = Vehicle(name_of_vehicle=\"Car\", max_speed=200, average_speed=60)\n",
    "bike = Vehicle(name_of_vehicle=\"Bike\", max_speed=120, average_speed=40)\n",
    "print(f\"{car.name_of_vehicle}: Max Speed - {car.max_speed} km/h, Average Speed - {car.average_speed} km/h\")\n",
    "print(f\"{bike.name_of_vehicle}: Max Speed - {bike.max_speed} km/h, Average Speed - {bike.average_speed} km/h\")"
   ]
  },
  {
   "cell_type": "code",
   "execution_count": 3,
   "metadata": {},
   "outputs": [
    {
     "name": "stdout",
     "output_type": "stream",
     "text": [
      "Car: Max Speed - 200 km/h, Average Speed - 60 km/h\n",
      "Car has a seating capacity of 5.\n"
     ]
    }
   ],
   "source": [
    "#2\n",
    "class Vehicle:\n",
    "    def __init__(self, name_of_vehicle, max_speed, average_speed):\n",
    "        self.name_of_vehicle = name_of_vehicle\n",
    "        self.max_speed = max_speed\n",
    "        self.average_speed = average_speed\n",
    "\n",
    "class Car(Vehicle):\n",
    "    def seating_capacity(self, capacity):\n",
    "        return f\"{self.name_of_vehicle} has a seating capacity of {capacity}.\"\n",
    "car = Car(name_of_vehicle=\"Car\", max_speed=200, average_speed=60)\n",
    "print(f\"{car.name_of_vehicle}: Max Speed - {car.max_speed} km/h, Average Speed - {car.average_speed} km/h\")\n",
    "capacity_message = car.seating_capacity(capacity=5)\n",
    "print(capacity_message)"
   ]
  },
  {
   "cell_type": "code",
   "execution_count": 4,
   "metadata": {},
   "outputs": [
    {
     "name": "stdout",
     "output_type": "stream",
     "text": [
      "Engine started.\n",
      "Battery charging.\n",
      "Hybrid car is driving.\n"
     ]
    }
   ],
   "source": [
    "#3\n",
    "#Multiple inheritance is a feature in object-oriented programming languages that allows a class to inherit attributes and methods from more than one parent class.\n",
    "#Ex-\n",
    "class Engine:\n",
    "    def start_engine(self):\n",
    "        print(\"Engine started.\")\n",
    "\n",
    "class ElectricVehicle:\n",
    "    def charge_battery(self):\n",
    "        print(\"Battery charging.\")\n",
    "\n",
    "class HybridCar(Engine, ElectricVehicle):\n",
    "    def drive(self):\n",
    "        print(\"Hybrid car is driving.\")\n",
    "hybrid_car = HybridCar()\n",
    "hybrid_car.start_engine()\n",
    "hybrid_car.charge_battery()\n",
    "hybrid_car.drive()"
   ]
  },
  {
   "cell_type": "code",
   "execution_count": 6,
   "metadata": {},
   "outputs": [
    {
     "name": "stdout",
     "output_type": "stream",
     "text": [
      "Name: John\n",
      "Age: 25\n",
      "Updated Name: Jane\n",
      "Updated Age: 30\n"
     ]
    }
   ],
   "source": [
    "#4\n",
    "\n",
    "#In Python, getters and setters are methods used to access and modify the attributes of a class, respectively. They are used to encapsulate the internal details of a class and provide controlled access to its attributes.\n",
    "class Person:\n",
    "    def __init__(self, name, age):\n",
    "        self._name = name  \n",
    "        self._age = age\n",
    "    def get_name(self):\n",
    "        return self._name\n",
    "    def set_name(self, new_name):\n",
    "        self._name = new_name\n",
    "    def get_age(self):\n",
    "        return self._age\n",
    "    def set_age(self, new_age):\n",
    "        if new_age >= 0:\n",
    "            self._age = new_age\n",
    "        else:\n",
    "            print(\"Age cannot be negative.\")\n",
    "person = Person(name=\"John\", age=25)\n",
    "print(\"Name:\", person.get_name())\n",
    "print(\"Age:\", person.get_age())   \n",
    "person.set_name(\"Jane\")\n",
    "person.set_age(30)\n",
    "print(\"Updated Name:\", person.get_name()) \n",
    "print(\"Updated Age:\", person.get_age())"
   ]
  },
  {
   "cell_type": "code",
   "execution_count": 7,
   "metadata": {},
   "outputs": [
    {
     "name": "stdout",
     "output_type": "stream",
     "text": [
      "Generic animal sound\n",
      "Bark bark!\n",
      "Meow meow!\n"
     ]
    }
   ],
   "source": [
    "#5\n",
    "#Method overriding in Python occurs when a child class provides a specific implementation for a method that is already defined in its parent class. This allows the child class to provide its own version of the method, effectively replacing the method in the parent class.\n",
    "class Animal:\n",
    "    def make_sound(self):\n",
    "        print(\"Generic animal sound\")\n",
    "class Dog(Animal):\n",
    "    def make_sound(self):\n",
    "        print(\"Bark bark!\")\n",
    "class Cat(Animal):\n",
    "    def make_sound(self):\n",
    "        print(\"Meow meow!\")\n",
    "generic_animal = Animal()\n",
    "dog = Dog()\n",
    "cat = Cat()\n",
    "generic_animal.make_sound()  \n",
    "dog.make_sound()          \n",
    "cat.make_sound() "
   ]
  }
 ],
 "metadata": {
  "kernelspec": {
   "display_name": "Python 3",
   "language": "python",
   "name": "python3"
  },
  "language_info": {
   "codemirror_mode": {
    "name": "ipython",
    "version": 3
   },
   "file_extension": ".py",
   "mimetype": "text/x-python",
   "name": "python",
   "nbconvert_exporter": "python",
   "pygments_lexer": "ipython3",
   "version": "3.11.4"
  }
 },
 "nbformat": 4,
 "nbformat_minor": 2
}
