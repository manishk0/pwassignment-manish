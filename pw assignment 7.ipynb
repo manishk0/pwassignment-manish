{
 "cells": [
  {
   "cell_type": "code",
   "execution_count": 1,
   "id": "e0268986-2bfc-4000-928f-76ab13e9f9c0",
   "metadata": {},
   "outputs": [],
   "source": [
    "#1\n",
    "#exception are raised when the program is syntactically correct but the code results in an error\n",
    "#An error is an issue of program that prevents the program to complete its tasks whereas Exception is condition that interrupt the normal flow of program."
   ]
  },
  {
   "cell_type": "code",
   "execution_count": 1,
   "id": "02498b7e-7066-458c-b92a-f3e908fd68ea",
   "metadata": {},
   "outputs": [
    {
     "name": "stdout",
     "output_type": "stream",
     "text": [
      "code run\n"
     ]
    }
   ],
   "source": [
    "#2\n",
    "#when an exception is not handled,then the output may shoe some syntax error if there is any.\n",
    "#ex-\n",
    "try:\n",
    "    f=open(\"man.txt\",'r')\n",
    "except Exception as e:\n",
    "    print(\"code run\")\n",
    "#here it shows output as code run, exception is not handled the it shoews file not found.    "
   ]
  },
  {
   "cell_type": "code",
   "execution_count": 2,
   "id": "c21ffb39-d06d-4173-92c9-ff07f52ee9d3",
   "metadata": {},
   "outputs": [
    {
     "name": "stdout",
     "output_type": "stream",
     "text": [
      "code run\n"
     ]
    }
   ],
   "source": [
    "#3.\n",
    "#try and except block statement is used to catch and handle exception.\n",
    "#ex-\n",
    "try:\n",
    "    f=open(\"man.txt\",'r')\n",
    "except Exception as e:\n",
    "    print(\"code run\")"
   ]
  },
  {
   "cell_type": "code",
   "execution_count": 5,
   "id": "638541a8-ea54-4a4e-a24f-a9528a24c13b",
   "metadata": {},
   "outputs": [
    {
     "name": "stdout",
     "output_type": "stream",
     "text": [
      "this is finally statement\n"
     ]
    }
   ],
   "source": [
    "#4.\n",
    "#a.try and else:\n",
    "try:\n",
    "    f=open(\"my.txt\",'w')\n",
    "    f.write(\"write into file\")\n",
    "except Exception as e:\n",
    "    print(\"this is my test\",e)\n",
    "else:\n",
    "    f.close()\n",
    "    print(\"this will be executed once your try will execute without error\")\n",
    "#b.finally:    \n",
    "try:\n",
    "    f=open(\"man.txt\",'w')\n",
    "    f.write(\"write into file\")\n",
    "except Exception as e:\n",
    "    print(\"this is my test\",e)\n",
    "finally:\n",
    "    print(\"this is finally statement\")\n",
    "#c.raise:\n",
    "class validateage(Exception):\n",
    "    def __init__(self,msg):\n",
    "        self.msg=msg\n",
    "def validage(age):\n",
    "    if age<0 :\n",
    "        raise validateage(\"entered age is negative\")\n",
    "    elif age>200:\n",
    "        raise validateage(\"entered age is very very high\")\n",
    "    else:\n",
    "        print(\"age is valid\")\n",
    "try:\n",
    "    age=int(input(\"enter your age:\"))\n",
    "    validage(age)\n",
    "except validateage as e:\n",
    "    print(e)\n",
    "\n",
    "    "
   ]
  },
  {
   "cell_type": "code",
   "execution_count": 7,
   "id": "1a4cfe04-e0fc-444f-8643-79a398f0205d",
   "metadata": {},
   "outputs": [
    {
     "name": "stdin",
     "output_type": "stream",
     "text": [
      "enter your age: 20\n"
     ]
    },
    {
     "name": "stdout",
     "output_type": "stream",
     "text": [
      "age is valid\n"
     ]
    }
   ],
   "source": [
    "#5.\n",
    "#we create custom exception by using class with define them as Exception.\n",
    "#we need custom exceptions because when we are developing  a large python program,it is good practice to place all the user-defined exceptions that our program raise in a separate file.\n",
    "#ex-\n",
    "class validateage(Exception):\n",
    "    def __init__(self,msg):\n",
    "        self.msg=msg\n",
    "def validage(age):\n",
    "    if age<0 :\n",
    "        raise validateage(\"entered age is negative\")\n",
    "    elif age>200:\n",
    "        raise validateage(\"entered age is very very high\")\n",
    "    else:\n",
    "        print(\"age is valid\")\n",
    "try:\n",
    "    age=int(input(\"enter your age:\"))\n",
    "    validage(age)\n",
    "except validateage as e:\n",
    "    print(e)\n"
   ]
  },
  {
   "cell_type": "code",
   "execution_count": null,
   "id": "74acb973-09a5-4793-a25b-64a34751fd5e",
   "metadata": {},
   "outputs": [],
   "source": [
    "#6.\n",
    "class validateage(Exception):\n",
    "    def __init__(self,msg):\n",
    "        self.msg=msg\n",
    "def validage(age):\n",
    "    if age<0 :\n",
    "        raise validateage(\"entered age is negative\")\n",
    "    elif age>200:\n",
    "        raise validateage(\"entered age is very very high\")\n",
    "    else:\n",
    "        print(\"age is valid\")\n",
    "try:\n",
    "    age=int(input(\"enter your age:\"))\n",
    "    validage(age)\n",
    "except validateage as e:\n",
    "    print(e)"
   ]
  }
 ],
 "metadata": {
  "kernelspec": {
   "display_name": "Python 3 (ipykernel)",
   "language": "python",
   "name": "python3"
  },
  "language_info": {
   "codemirror_mode": {
    "name": "ipython",
    "version": 3
   },
   "file_extension": ".py",
   "mimetype": "text/x-python",
   "name": "python",
   "nbconvert_exporter": "python",
   "pygments_lexer": "ipython3",
   "version": "3.10.8"
  }
 },
 "nbformat": 4,
 "nbformat_minor": 5
}
