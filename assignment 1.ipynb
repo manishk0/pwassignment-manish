{
 "cells": [
  {
   "cell_type": "code",
   "execution_count": null,
   "id": "3d0b05a1-56df-40d9-a951-250b672fbd06",
   "metadata": {},
   "outputs": [],
   "source": [
    "#1\n",
    "a=['manish']\n",
    "b=[2,'manish',8.9]\n",
    "c=[65.2]\n",
    "d=('manish',8,8.9)"
   ]
  },
  {
   "cell_type": "code",
   "execution_count": null,
   "id": "fcab38b1-b59d-4b0c-b63d-c56539d256eb",
   "metadata": {},
   "outputs": [],
   "source": [
    "#2\n",
    "1.str\n",
    "2.str\n",
    "3.list\n",
    "4.int\n"
   ]
  },
  {
   "cell_type": "code",
   "execution_count": null,
   "id": "2168fc17-1a4c-49af-88ef-06ce9ae3a33f",
   "metadata": {},
   "outputs": [],
   "source": [
    "#3\n",
    "#division-it divides\n",
    "4/2\n",
    "#modulos-it gives remainder\n",
    "4%2\n",
    "#division floor-it divides two numbers and  give the nearest integer as output\n",
    "5//2\n",
    "#expotent operator-it is raise to power\n",
    "3**2\n"
   ]
  },
  {
   "cell_type": "code",
   "execution_count": 7,
   "id": "59bd62b3-c340-4a78-82ee-44d07a2b8f0f",
   "metadata": {},
   "outputs": [
    {
     "name": "stdout",
     "output_type": "stream",
     "text": [
      "2\n",
      "<class 'int'>\n",
      "2.4\n",
      "<class 'float'>\n",
      "man\n",
      "<class 'str'>\n",
      "1\n",
      "<class 'int'>\n",
      "7\n",
      "<class 'int'>\n",
      "90\n",
      "<class 'int'>\n",
      "85\n",
      "<class 'int'>\n",
      "3.9\n",
      "<class 'float'>\n",
      "bird\n",
      "<class 'str'>\n",
      "54\n",
      "<class 'int'>\n"
     ]
    }
   ],
   "source": [
    "#4\n",
    "a=[2,2.4,'man',1,7,90,85,3.9,'bird',54]\n",
    "for i in a:\n",
    "    print(i)\n",
    "    print(type(i))"
   ]
  },
  {
   "cell_type": "code",
   "execution_count": 9,
   "id": "2d335464-14a0-4f57-b76d-121a40ce56b2",
   "metadata": {},
   "outputs": [
    {
     "name": "stdin",
     "output_type": "stream",
     "text": [
      "enter the value of A: 16\n",
      "enter the value of B: 2\n"
     ]
    },
    {
     "name": "stdout",
     "output_type": "stream",
     "text": [
      "A is purely divisible by B in 4 times\n"
     ]
    }
   ],
   "source": [
    "#5\n",
    "A=int(input('enter the value of A:'))\n",
    "B=int(input('enter the value of B:'))\n",
    "count=0\n",
    "while A%B==0:\n",
    "    count+=1\n",
    "    A=A/B\n",
    "if A==1:\n",
    "    print(f'A is purely divisible by B in {count} times')\n",
    "else:\n",
    "    print('A is not divisible by B')"
   ]
  },
  {
   "cell_type": "code",
   "execution_count": 10,
   "id": "27d58a2e-d135-41ec-af2f-a98138c6e6b3",
   "metadata": {},
   "outputs": [
    {
     "name": "stdout",
     "output_type": "stream",
     "text": [
      "0\n",
      "i is divisible by 3\n",
      "1\n",
      "i is not divisible by 3\n",
      "2\n",
      "i is not divisible by 3\n",
      "3\n",
      "i is divisible by 3\n",
      "4\n",
      "i is not divisible by 3\n",
      "5\n",
      "i is not divisible by 3\n",
      "6\n",
      "i is divisible by 3\n",
      "7\n",
      "i is not divisible by 3\n",
      "8\n",
      "i is not divisible by 3\n",
      "9\n",
      "i is divisible by 3\n",
      "10\n",
      "i is not divisible by 3\n",
      "11\n",
      "i is not divisible by 3\n",
      "12\n",
      "i is divisible by 3\n",
      "13\n",
      "i is not divisible by 3\n",
      "14\n",
      "i is not divisible by 3\n",
      "15\n",
      "i is divisible by 3\n",
      "16\n",
      "i is not divisible by 3\n",
      "17\n",
      "i is not divisible by 3\n",
      "18\n",
      "i is divisible by 3\n",
      "19\n",
      "i is not divisible by 3\n",
      "20\n",
      "i is not divisible by 3\n",
      "21\n",
      "i is divisible by 3\n",
      "22\n",
      "i is not divisible by 3\n",
      "23\n",
      "i is not divisible by 3\n",
      "24\n",
      "i is divisible by 3\n"
     ]
    }
   ],
   "source": [
    "#6\n",
    "a=list(range(25))\n",
    "for i in a:\n",
    "    print(i)\n",
    "    if i%3==0:\n",
    "        print('i is divisible by 3')\n",
    "    else:\n",
    "        print('i is not divisible by 3')\n"
   ]
  },
  {
   "cell_type": "code",
   "execution_count": null,
   "id": "24874099-bee6-4bdc-aeb7-f27d1dc28e74",
   "metadata": {},
   "outputs": [],
   "source": [
    "#7\n",
    "mutable-data types which allows to change the data without affecting objects identity.\n",
    "ex-list data type\n",
    "a=[2,'manish',8.9]\n",
    "a.append('kishore')\n",
    "immutable-data types which  doesnt allows to change the data.\n",
    "ex-string data type"
   ]
  }
 ],
 "metadata": {
  "kernelspec": {
   "display_name": "Python 3 (ipykernel)",
   "language": "python",
   "name": "python3"
  },
  "language_info": {
   "codemirror_mode": {
    "name": "ipython",
    "version": 3
   },
   "file_extension": ".py",
   "mimetype": "text/x-python",
   "name": "python",
   "nbconvert_exporter": "python",
   "pygments_lexer": "ipython3",
   "version": "3.10.8"
  }
 },
 "nbformat": 4,
 "nbformat_minor": 5
}
