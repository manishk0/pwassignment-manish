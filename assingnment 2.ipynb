{
 "cells": [
  {
   "cell_type": "code",
   "execution_count": null,
   "id": "356a7280-d16d-4a81-aba2-d4b824aa4403",
   "metadata": {},
   "outputs": [],
   "source": [
    "#1\n",
    "we comment code by using # symbol,\n",
    "there are three types of comments:single line,multi line and docstring comments"
   ]
  },
  {
   "cell_type": "code",
   "execution_count": null,
   "id": "c403bf7f-3508-495f-a871-7d695caca9b9",
   "metadata": {},
   "outputs": [],
   "source": [
    "#2\n",
    "variables are container that stores data values,\n",
    "we assign values to it by:\n",
    "    for ex-a=34\n",
    "    here  we asign the value 34 to variable a.\n"
   ]
  },
  {
   "cell_type": "code",
   "execution_count": null,
   "id": "ad5d409c-cb27-4e3e-abe2-f5cb56be8b79",
   "metadata": {},
   "outputs": [],
   "source": [
    "#3\n",
    "for ex-a=input('enter a number:')\n",
    "this gives a string data types so now if we put int before input then it becomes integer datatypes\n",
    "like a=int(input('enter number:'))"
   ]
  },
  {
   "cell_type": "code",
   "execution_count": null,
   "id": "53db7b78-27f8-4489-b81a-fe01dde8f95d",
   "metadata": {},
   "outputs": [],
   "source": [
    "#4\n",
    "we execute python script by saving it in the format .py "
   ]
  },
  {
   "cell_type": "code",
   "execution_count": 1,
   "id": "4a049434-75c2-48e8-b692-96463e63b58d",
   "metadata": {},
   "outputs": [
    {
     "data": {
      "text/plain": [
       "[2, 3]"
      ]
     },
     "execution_count": 1,
     "metadata": {},
     "output_type": "execute_result"
    }
   ],
   "source": [
    "#5\n",
    "my_list=[1,2,3,4,5]\n",
    "my_list[1:3]"
   ]
  },
  {
   "cell_type": "code",
   "execution_count": null,
   "id": "628a6eba-aee4-4886-a138-57549a9742f8",
   "metadata": {},
   "outputs": [],
   "source": [
    "#6\n",
    "In math complex number has two parts real and imaginary part.\n",
    "ex-2+4i\n",
    "In python it is written as \n",
    "ex-2+4j\n",
    "where 2-real part and 4j-imaginary"
   ]
  },
  {
   "cell_type": "code",
   "execution_count": null,
   "id": "56c6d690-84e7-4ffd-8e14-0b9d564fe075",
   "metadata": {},
   "outputs": [],
   "source": [
    "#7\n",
    "age=25"
   ]
  },
  {
   "cell_type": "code",
   "execution_count": null,
   "id": "683e81bf-d0d0-402d-89ba-3cd2af75efee",
   "metadata": {},
   "outputs": [],
   "source": [
    "#8\n",
    "price=9.99\n",
    "it is float data type"
   ]
  },
  {
   "cell_type": "code",
   "execution_count": 4,
   "id": "6eb7e179-0664-4830-bd92-89fd2ab961d6",
   "metadata": {},
   "outputs": [
    {
     "name": "stdin",
     "output_type": "stream",
     "text": [
      "enter your name: manish\n"
     ]
    },
    {
     "data": {
      "text/plain": [
       "'manish'"
      ]
     },
     "execution_count": 4,
     "metadata": {},
     "output_type": "execute_result"
    }
   ],
   "source": [
    "#9\n",
    "name=input('enter your name:')\n",
    "name"
   ]
  },
  {
   "cell_type": "code",
   "execution_count": 9,
   "id": "a262eba8-1daf-45ed-9ce6-8b4f4df07715",
   "metadata": {},
   "outputs": [
    {
     "data": {
      "text/plain": [
       "'world'"
      ]
     },
     "execution_count": 9,
     "metadata": {},
     "output_type": "execute_result"
    }
   ],
   "source": [
    "#10\n",
    "a=[\"hello,world!\"]\n",
    "a[0][6:11]"
   ]
  },
  {
   "cell_type": "code",
   "execution_count": 5,
   "id": "67bc2fe1-f041-4565-b025-023aee1d988e",
   "metadata": {},
   "outputs": [
    {
     "name": "stdin",
     "output_type": "stream",
     "text": [
      "enter you are a student,yes or no: yes\n"
     ]
    },
    {
     "name": "stdout",
     "output_type": "stream",
     "text": [
      "True\n"
     ]
    }
   ],
   "source": [
    "#11\n",
    "is_student=input('enter you are a student,yes or no:')\n",
    "print(bool(is_student=='yes'))\n",
    "    \n"
   ]
  },
  {
   "cell_type": "code",
   "execution_count": null,
   "id": "dbd78427-0c5c-4ccc-9494-c8292b0c1fb5",
   "metadata": {},
   "outputs": [],
   "source": []
  }
 ],
 "metadata": {
  "kernelspec": {
   "display_name": "Python 3 (ipykernel)",
   "language": "python",
   "name": "python3"
  },
  "language_info": {
   "codemirror_mode": {
    "name": "ipython",
    "version": 3
   },
   "file_extension": ".py",
   "mimetype": "text/x-python",
   "name": "python",
   "nbconvert_exporter": "python",
   "pygments_lexer": "ipython3",
   "version": "3.10.8"
  }
 },
 "nbformat": 4,
 "nbformat_minor": 5
}
