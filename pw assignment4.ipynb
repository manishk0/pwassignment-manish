{
 "cells": [
  {
   "cell_type": "code",
   "execution_count": 12,
   "id": "0ba24d4c-9c67-4d2f-8217-c6b2cfa7b5ae",
   "metadata": {},
   "outputs": [
    {
     "data": {
      "text/plain": [
       "['sachin tendulkar',\n",
       " 34357,\n",
       " 'Ricky pointing',\n",
       " 27483,\n",
       " 'jack kallis',\n",
       " 25534,\n",
       " 'virat kohli',\n",
       " 24936]"
      ]
     },
     "execution_count": 12,
     "metadata": {},
     "output_type": "execute_result"
    }
   ],
   "source": [
    "#1\n",
    "a=('sachin tendulkar',34357)\n",
    "b=('Ricky pointing',27483)\n",
    "c=('jack kallis',25534)\n",
    "d=('virat kohli',24936)\n",
    "x=lambda a,b,c,d:list(a+b+c+d)\n",
    "x(a,b,c,d)\n",
    "\n"
   ]
  },
  {
   "cell_type": "code",
   "execution_count": 13,
   "id": "4590c42c-c444-4d08-a2e1-e11f4de218b5",
   "metadata": {},
   "outputs": [
    {
     "data": {
      "text/plain": [
       "[1, 4, 9, 16, 25, 36, 49, 64, 81, 100]"
      ]
     },
     "execution_count": 13,
     "metadata": {},
     "output_type": "execute_result"
    }
   ],
   "source": [
    "#2\n",
    "l=[1,2,3,4,5,6,7,8,9,10]\n",
    "list(map(lambda x:x**2,l))\n"
   ]
  },
  {
   "cell_type": "code",
   "execution_count": 25,
   "id": "a1e01151-ff59-472a-9257-df84c689745a",
   "metadata": {},
   "outputs": [
    {
     "data": {
      "text/plain": [
       "('[',\n",
       " '1',\n",
       " ',',\n",
       " ' ',\n",
       " '2',\n",
       " ',',\n",
       " ' ',\n",
       " '3',\n",
       " ',',\n",
       " ' ',\n",
       " '4',\n",
       " ',',\n",
       " ' ',\n",
       " '5',\n",
       " ',',\n",
       " ' ',\n",
       " '6',\n",
       " ',',\n",
       " ' ',\n",
       " '7',\n",
       " ',',\n",
       " ' ',\n",
       " '8',\n",
       " ',',\n",
       " ' ',\n",
       " '9',\n",
       " ',',\n",
       " ' ',\n",
       " '1',\n",
       " '0',\n",
       " ']')"
      ]
     },
     "execution_count": 25,
     "metadata": {},
     "output_type": "execute_result"
    }
   ],
   "source": [
    "#3\n",
    "l=str([1,2,3,4,5,6,7,8,9,10])\n",
    "tuple(map(lambda l:l.upper(),l))\n",
    "      "
   ]
  },
  {
   "cell_type": "code",
   "execution_count": 33,
   "id": "9eeefd27-81c3-41f3-8d7a-07e52f90b366",
   "metadata": {},
   "outputs": [
    {
     "data": {
      "text/plain": [
       "15511210043330985984000000"
      ]
     },
     "execution_count": 33,
     "metadata": {},
     "output_type": "execute_result"
    }
   ],
   "source": [
    "#4\n",
    "from functools import reduce\n",
    "a=[1,2,3,4,5,6,7,8,9,10,11,12,13,14,15,16,17,18,19,20,21,22,23,24,25]\n",
    "reduce(lambda x,y:x*y,a)"
   ]
  },
  {
   "cell_type": "code",
   "execution_count": 44,
   "id": "d328432f-aa26-4add-8848-a0a181b3b2ff",
   "metadata": {},
   "outputs": [
    {
     "data": {
      "text/plain": [
       "[6, 60, 90, 120]"
      ]
     },
     "execution_count": 44,
     "metadata": {},
     "output_type": "execute_result"
    }
   ],
   "source": [
    "#5\n",
    "a=[2,3,6,9,27,60,90,120,55,46]\n",
    "list(filter(lambda x: x%2==0 and x%3==0 ,a))\n"
   ]
  },
  {
   "cell_type": "code",
   "execution_count": 54,
   "id": "b75fad12-4c5c-4f5d-a58f-b36ec9d234ad",
   "metadata": {},
   "outputs": [
    {
     "ename": "SyntaxError",
     "evalue": "incomplete input (990181540.py, line 3)",
     "output_type": "error",
     "traceback": [
      "\u001b[0;36m  Cell \u001b[0;32mIn[54], line 3\u001b[0;36m\u001b[0m\n\u001b[0;31m    list(filter(lambda x:x==x[::-1],a)\u001b[0m\n\u001b[0m                                      ^\u001b[0m\n\u001b[0;31mSyntaxError\u001b[0m\u001b[0;31m:\u001b[0m incomplete input\n"
     ]
    }
   ],
   "source": [
    "#6\n",
    "a=['python','php','aba','radar','level']\n",
    "list(filter(lambda x:x==x[::-1],a)"
   ]
  },
  {
   "cell_type": "code",
   "execution_count": null,
   "id": "5e3e0423-b3e3-448f-bbbb-0d2917e2c46a",
   "metadata": {},
   "outputs": [],
   "source": []
  }
 ],
 "metadata": {
  "kernelspec": {
   "display_name": "Python 3 (ipykernel)",
   "language": "python",
   "name": "python3"
  },
  "language_info": {
   "codemirror_mode": {
    "name": "ipython",
    "version": 3
   },
   "file_extension": ".py",
   "mimetype": "text/x-python",
   "name": "python",
   "nbconvert_exporter": "python",
   "pygments_lexer": "ipython3",
   "version": "3.10.8"
  }
 },
 "nbformat": 4,
 "nbformat_minor": 5
}
